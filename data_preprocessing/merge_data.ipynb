{
  "nbformat": 4,
  "nbformat_minor": 0,
  "metadata": {
    "colab": {
      "provenance": []
    },
    "kernelspec": {
      "name": "python3",
      "display_name": "Python 3"
    },
    "language_info": {
      "name": "python"
    }
  },
  "cells": [
    {
      "cell_type": "code",
      "source": [
        "import pandas as pd\n",
        "import numpy as np\n",
        "import matplotlib.pyplot as plt\n",
        "import seaborn as sns\n",
        "\n",
        "# Professor names\n",
        "professor_names = ['김유섭', '김은주', '이정근', '양은샘', '신미영', '김선정']"
      ],
      "metadata": {
        "id": ""
      },
      "execution_count": null,
      "outputs": []
    },
    {
      "cell_type": "code",
      "source": [
        "!sudo apt-get -q install -y fonts-noto-cjk\n",
        "!sudo fc-cache -fv\n",
        "!rm ~/.cache/matplotlib -rf\n",
        "\n",
        "import matplotlib.font_manager as fm\n",
        "\n",
        "fm.fontManager.addfont('/usr/share/fonts/opentype/noto/NotoSansCJK-Regular.ttc')\n",
        "plt.rcParams['font.family'] = 'Noto Sans CJK JP'\n",
        "sns.set(font='Noto Sans CJK JP', font_scale=.8)"
      ],
      "metadata": {
        "id": ""
      },
      "execution_count": null,
      "outputs": []
    },
    {
      "cell_type": "markdown",
      "source": [
        "### Merge data"
      ],
      "metadata": {
        "id": ""
      }
    },
    {
      "cell_type": "code",
      "source": [
        "everytime_reviews = pd.read_csv('everytime_reviews.csv', encoding='utf-8-sig')\n",
        "survey_reviews = pd.read_csv('survey_reviews.csv', encoding='utf-8-sig')\n",
        "\n",
        "everytime_reviews = everytime_reviews[['professor', 'review']]\n",
        "survey_reviews = survey_reviews[['professor', 'review']]\n",
        "\n",
        "df = pd.concat([everytime_reviews, survey_reviews], ignore_index=True)"
      ],
      "metadata": {
        "id": ""
      },
      "execution_count": null,
      "outputs": []
    },
    {
      "cell_type": "code",
      "source": [
        "everytime_reviews['professor'].value_counts()"
      ],
      "metadata": {
        "id": ""
      },
      "execution_count": null,
      "outputs": []
    },
    {
      "cell_type": "code",
      "source": [
        "survey_reviews['professor'].value_counts()"
      ],
      "metadata": {
        "id": ""
      },
      "execution_count": null,
      "outputs": []
    },
    {
      "cell_type": "code",
      "source": [
        "df['professor'].value_counts()"
      ],
      "metadata": {
        "id": ""
      },
      "execution_count": null,
      "outputs": []
    },
    {
      "cell_type": "code",
      "source": [
        "df.to_csv('merged_reviews_by_professor.csv', index=False, encoding='utf-8-sig')"
      ],
      "metadata": {
        "id": ""
      },
      "execution_count": null,
      "outputs": []
    }
  ]
}