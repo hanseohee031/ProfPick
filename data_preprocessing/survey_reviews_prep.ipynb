{
  "nbformat": 4,
  "nbformat_minor": 0,
  "metadata": {
    "colab": {
      "provenance": []
    },
    "kernelspec": {
      "name": "python3",
      "display_name": "Python 3"
    },
    "language_info": {
      "name": "python"
    }
  },
  "cells": [
    {
      "cell_type": "code",
      "source": [
        "import pandas as pd\n",
        "import numpy as np\n",
        "import matplotlib.pyplot as plt\n",
        "import seaborn as sns\n",
        "\n",
        "# Professor names\n",
        "professor_names = ['김유섭', '김은주', '이정근', '양은샘', '신미영', '김선정']"
      ],
      "metadata": {
        "id": ""
      },
      "execution_count": null,
      "outputs": []
    },
    {
      "cell_type": "markdown",
      "source": [
        "### “모르겠다”, “수업을 안들어서 모른다”, “기억 안남” 등의 응답을 NaN 처리하고 결측값 제거하기\n",
        "\n",
        "1. **문장 유사도 기반 NaN 처리**  \n",
        "   - `SentenceTransformer`를 이용해 기준 문장(“모르겠다”, “들어본 적 없음”, “기억 안난다” 등)을 먼저 임베딩하여 저장  \n",
        "   - 각 리뷰 문장에 대해 동일한 임베딩 모델로 벡터화하고, 기준 임베딩들과의 코사인 유사도를 계산  \n",
        "   - 유사도가 임계치(예: 0.85) 이상인 경우 `np.nan`으로 반환하여 “모름” 응답을 결측값으로 표시  \n",
        "\n",
        "2. **결측값 제거**  \n",
        "   - Pandas의 `dropna()` 또는 `DataFrame.dropna(axis=0, how='any')` 메서드를 사용해 NaN이 된 행(응답)들을 제거  \n",
        "   - 이렇게 하면 실제 수업을 들은 경험에 기반한 리뷰만 남겨, 이후 분석의 왜곡을 막습니다  "
      ],
      "metadata": {
        "id": ""
      }
    },
    {
      "cell_type": "code",
      "source": [
        "df = pd.read_excel('professor_review.xlsx')"
      ],
      "metadata": {
        "id": ""
      },
      "execution_count": null,
      "outputs": []
    },
    {
      "cell_type": "code",
      "source": [
        "df.head()"
      ],
      "metadata": {
        "id": ""
      },
      "execution_count": null,
      "outputs": []
    },
    {
      "cell_type": "code",
      "source": [
        "df = df.melt(\n",
        "    id_vars=['응답일시', '참여자'],\n",
        "    value_vars=df.columns[2:],\n",
        "    var_name='professor',\n",
        "    value_name='review'\n",
        ")\n",
        "\n",
        "# Extract the professor name without the title\n",
        "df['professor'] = df['professor'].str.replace(' 교수님', '')\n",
        "\n",
        "df.dropna(inplace=True)"
      ],
      "metadata": {
        "id": ""
      },
      "execution_count": null,
      "outputs": []
    },
    {
      "cell_type": "code",
      "source": [
        "df.head()"
      ],
      "metadata": {
        "id": ""
      },
      "execution_count": null,
      "outputs": []
    },
    {
      "cell_type": "code",
      "source": [
        "# 결측값 처리 전\n",
        "df['professor'].value_counts()"
      ],
      "metadata": {
        "id": ""
      },
      "execution_count": null,
      "outputs": []
    },
    {
      "cell_type": "markdown",
      "source": [
        "### Generate embeddings"
      ],
      "metadata": {
        "id": ""
      }
    },
    {
      "cell_type": "code",
      "source": [
        "from sentence_transformers import SentenceTransformer, util\n",
        "import numpy as np\n",
        "\n",
        "# 1) 임베딩 모델 로드 (가볍고 빠른 모델 추천)\n",
        "model = SentenceTransformer('snunlp/KR-SBERT-V40K-klueNLI-augSTS')\n",
        "\n",
        "# 2) 기준 문장 리스트 (수업 안 들음/모름 의미)\n",
        "reference_texts = [\n",
        "    '수업을 들은 적이 없다',\n",
        "    '수강한 적 없음',\n",
        "    '기억이 안 난다',\n",
        "    '모름',\n",
        "    '머름',\n",
        "    'ㅡ'\n",
        "]\n",
        "\n",
        "# 기준 문장 임베딩\n",
        "ref_embeddings = model.encode(reference_texts, convert_to_tensor=True)\n",
        "\n",
        "def to_nan_if_similar(text, threshold=0.55):\n",
        "    emb = model.encode(text, convert_to_tensor=True)\n",
        "    cosine_scores = util.pytorch_cos_sim(emb, ref_embeddings)\n",
        "    max_score = cosine_scores.max().item()\n",
        "    if max_score > threshold:\n",
        "        print(f'NaN 처리됨: \"{text}\", 유사도: {max_score}')\n",
        "        return np.nan\n",
        "    return text\n",
        "\n",
        "# professor_cols는 교수님별 컬럼 리스트\n",
        "df['review'] = df['review'].apply(to_nan_if_similar)"
      ],
      "metadata": {
        "id": ""
      },
      "execution_count": null,
      "outputs": []
    },
    {
      "cell_type": "code",
      "source": [
        "df.dropna(inplace=True)"
      ],
      "metadata": {
        "id": ""
      },
      "execution_count": null,
      "outputs": []
    },
    {
      "cell_type": "code",
      "source": [
        "# 결측값 처리 후\n",
        "df['professor'].value_counts()"
      ],
      "metadata": {
        "id": ""
      },
      "execution_count": null,
      "outputs": []
    },
    {
      "cell_type": "markdown",
      "source": [
        "### Save"
      ],
      "metadata": {
        "id": ""
      }
    },
    {
      "cell_type": "code",
      "source": [
        "df.to_csv('survey_reviews.csv', index=False, encoding='utf-8-sig')"
      ],
      "metadata": {
        "id": ""
      },
      "execution_count": null,
      "outputs": []
    }
  ]
}